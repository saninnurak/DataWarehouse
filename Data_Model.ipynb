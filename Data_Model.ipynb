{
 "cells": [
  {
   "cell_type": "code",
   "execution_count": 1,
   "id": "dc08040b",
   "metadata": {},
   "outputs": [],
   "source": [
    "import psycopg2\n"
   ]
  },
  {
   "cell_type": "code",
   "execution_count": 8,
   "id": "6dd5bd32",
   "metadata": {},
   "outputs": [],
   "source": [
    "#Connection to the database\n",
    "try:\n",
    "    conn = psycopg2.connect(\"host=127.0.0.1 dbname=postgres user=postgres password='upadaj'\")\n",
    "except psycopg2.Error as e:\n",
    "    print('Error: Could ot make connection to the Postgres database')\n",
    "    print(e)"
   ]
  },
  {
   "cell_type": "code",
   "execution_count": 10,
   "id": "676e7b73",
   "metadata": {},
   "outputs": [],
   "source": [
    "# Open a cursor to perform database operations\n",
    "try:\n",
    "    cur=conn.cursor ()\n",
    "except psycopg2.Error as e:\n",
    "    print('Error: Could not get curser to the Database')\n",
    "    print(e)"
   ]
  },
  {
   "cell_type": "code",
   "execution_count": 11,
   "id": "c06bee28",
   "metadata": {},
   "outputs": [],
   "source": [
    "#Set automatic commit to be true so that each action is ommitted without havig to call conn.commit() after each command.\n",
    "conn.set_session(autocommit=True)"
   ]
  },
  {
   "cell_type": "code",
   "execution_count": 17,
   "id": "bb090c09",
   "metadata": {},
   "outputs": [
    {
     "name": "stdout",
     "output_type": "stream",
     "text": [
      "database \"datawarehouse\" already exists\n",
      "\n"
     ]
    }
   ],
   "source": [
    "# Create a database to work in !!\n",
    "try:\n",
    "    cur.execute(\"create database datawarehouse\")\n",
    "except psycopg2.Error as e:\n",
    "    print(e)"
   ]
  },
  {
   "cell_type": "code",
   "execution_count": 27,
   "id": "f2263407",
   "metadata": {},
   "outputs": [],
   "source": [
    "#Add the database name in the cunnect statement. Let-s close our connection to the default database reconnect to the Udacity database, and get a new cursor!!\n",
    "try:\n",
    "    conn.close()\n",
    "except psycopg2.Error as e:\n",
    "    print(e)\n",
    "\n",
    "try:\n",
    "    conn = psycopg2.connect(\"host=127.0.0.1 dbname=datawarehouse user=postgres password='upadaj'\")\n",
    "except psycopg2.Error as e:\n",
    "    print('Error: Could ot make connection to the Postgres database')\n",
    "    print(e)\n",
    "    \n",
    "try:\n",
    "    cur=conn.cursor()\n",
    "except psycopg2.Error as e:\n",
    "    print('Error: Could not get curser to the Database')\n",
    "    print(e)\n",
    "    \n",
    "    \n",
    "conn.set_session(autocommit=True)\n",
    "    "
   ]
  },
  {
   "cell_type": "code",
   "execution_count": 31,
   "id": "93355a52",
   "metadata": {},
   "outputs": [],
   "source": [
    "#Create Table in databse\n",
    "try:\n",
    "    cur.execute(\"CREATE TABLE IF NOT EXISTS students(student_id int, name varchar, age int, gender varchar, subject varchar, makrs int);\")\n",
    "except psycopg2.Error as e:\n",
    "    print('Error: Could not get curser to the Database')\n",
    "    print(e)"
   ]
  },
  {
   "cell_type": "code",
   "execution_count": 30,
   "id": "86faa0cd",
   "metadata": {},
   "outputs": [],
   "source": [
    "#Insert data into table\n",
    "try:\n",
    "    cur.execute(\"INSERT INTO students(student_id, name, age, gender, subject, makrs) VALUES (%s, %s, %s, %s, %s, %s)\",\n",
    "                (1, 'Sanin', 25, 'Male', 'Python', 88))\n",
    "except psycopg2.Error as e:\n",
    "    print('Error: Could not get curser to the Database')\n",
    "    print(e)\n",
    "    \n",
    "try:\n",
    "    cur.execute(\"INSERT INTO students(student_id, name, age, gender, subject, makrs) VALUES (%s, %s, %s, %s, %s, %s)\",\n",
    "                (2, 'Sanson', 26, 'Male', 'C#', 82))\n",
    "except psycopg2.Error as e:\n",
    "    print('Error: Could not get curser to the Database')\n",
    "    print(e)\n",
    "    "
   ]
  },
  {
   "cell_type": "code",
   "execution_count": 32,
   "id": "4b9bf3bc",
   "metadata": {},
   "outputs": [
    {
     "name": "stdout",
     "output_type": "stream",
     "text": [
      "(1, 'Sanin', 25, 'Male', 'Python', 88)\n",
      "(2, 'Sanson', 26, 'Male', 'C#', 82)\n"
     ]
    }
   ],
   "source": [
    "#Validate your data was inserted into the table\n",
    "try:\n",
    "    cur.execute(\"SELECT * FROM students;\")\n",
    "except psycopg2.Error as e:\n",
    "    print('Error: select *')\n",
    "    print(e)\n",
    "    \n",
    "row = cur.fetchone()\n",
    "while row:\n",
    "    print(row)\n",
    "    row = cur.fetchone()"
   ]
  },
  {
   "cell_type": "code",
   "execution_count": 33,
   "id": "1b302037",
   "metadata": {},
   "outputs": [],
   "source": [
    "#And finally close your cursor and connection\n",
    "cur.close()\n",
    "conn.close()"
   ]
  },
  {
   "cell_type": "code",
   "execution_count": null,
   "id": "f77e5142",
   "metadata": {},
   "outputs": [],
   "source": []
  }
 ],
 "metadata": {
  "kernelspec": {
   "display_name": "Python 3 (ipykernel)",
   "language": "python",
   "name": "python3"
  },
  "language_info": {
   "codemirror_mode": {
    "name": "ipython",
    "version": 3
   },
   "file_extension": ".py",
   "mimetype": "text/x-python",
   "name": "python",
   "nbconvert_exporter": "python",
   "pygments_lexer": "ipython3",
   "version": "3.10.6"
  }
 },
 "nbformat": 4,
 "nbformat_minor": 5
}
